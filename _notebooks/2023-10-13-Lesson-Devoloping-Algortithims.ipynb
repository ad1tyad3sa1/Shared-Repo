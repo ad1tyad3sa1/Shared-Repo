{
 "cells": [
  {
   "cell_type": "markdown",
   "metadata": {},
   "source": [
    "# What are Algorithims?\n",
    "#1 What is the difference between these two pieces of code? (in terms of their output)"
   ]
  },
  {
   "cell_type": "markdown",
   "metadata": {},
   "source": [
    "Whats the difference between these two math problems:\n",
    "(3+1)3 + 89 + 4(2+8)\n",
    "3(1+3) + 8(1+4) + 89\n",
    "\n",
    "Nothing! They are just two different ways of doing them!\n",
    "\n",
    "Whats the difference between these two math problems:\n",
    "3((9-6)+7) + 7 - (9+8)\n",
    "3(9-(6+7)) + 7 - 9 + 8\n",
    "\n",
    "A lot! This changes the output by quite a bit!"
   ]
  },
  {
   "cell_type": "code",
   "execution_count": null,
   "metadata": {},
   "outputs": [],
   "source": [
    "print(\"What is the temperature outside °F?\")\n",
    "temp = int(input())\n",
    "if temp > 85:\n",
    "    print(\"It is too hot outside!\")\n",
    "elif temp >= 65:\n",
    "    print(\"Sure, I will play outside!\")\n",
    "else:\n",
    "    print(\"It is too cold outside!\")"
   ]
  },
  {
   "cell_type": "code",
   "execution_count": null,
   "metadata": {},
   "outputs": [],
   "source": [
    "print(\"What is the temperature outside °F?\")\n",
    "temp = int(input())\n",
    "if temp > 85:\n",
    "    print(\"It is too hot outside!\")\n",
    "elif temp >= 65:\n",
    "    print(\"Sure, I will play outside!\")\n",
    "else:\n",
    "    print(\"It is too cold outside!\")"
   ]
  },
  {
   "cell_type": "markdown",
   "metadata": {},
   "source": [
    "### Didnt get it? \n",
    "Hint: \n",
    "- What if I input 60 degrees °F?\n",
    "- What if I input 90 degrees °F?\n"
   ]
  },
  {
   "cell_type": "markdown",
   "metadata": {},
   "source": [
    "#2 What is the difference between these two pieces of code? (in terms of their output)"
   ]
  },
  {
   "cell_type": "code",
   "execution_count": null,
   "metadata": {},
   "outputs": [],
   "source": [
    "num = 1\n",
    "while num <= 100:\n",
    "    if num % 4 != 0:\n",
    "        print(num, end=' ')\n",
    "    num += 1\n",
    "\n"
   ]
  },
  {
   "cell_type": "code",
   "execution_count": null,
   "metadata": {},
   "outputs": [],
   "source": [
    "def print_numbers():\n",
    "    for i in range(1, 101):\n",
    "        if i % 4 != 0:\n",
    "            print(i)\n",
    "\n",
    "print_numbers()\n"
   ]
  },
  {
   "cell_type": "markdown",
   "metadata": {},
   "source": [
    "So when developing algorithms, different pieces of code could do the same thing, and two similar pieces of code could do very different things. "
   ]
  },
  {
   "cell_type": "markdown",
   "metadata": {},
   "source": [
    "# Data Collections\n",
    "\n",
    "### Purpose of Data Collection\n",
    "To gather accurate and relevant information for specific purposes, such as solving problems, making informed decisions, or predicting future trends.\n",
    "\n",
    "### Techniques\n",
    "Surveys and Questionnaires: Structured methods for gathering data from a large number of respondents. They can be administered in-person, online, or through other mediums.\n",
    "\n",
    "Observations: Watching and recording actions or behaviors in a systematic manner.\n",
    "\n",
    "Experiments: Conducting controlled tests or trials to determine cause and effect relationships.\n",
    "\n",
    "Simulations: Using models to imitate real-world situations.\n",
    "\n",
    "Interviews: One-on-one or group discussions to gain in-depth insights.\n",
    "\n",
    "Sensors and Automated Collection: Using electronic devices to automatically collect data, like temperature sensors or traffic cameras.\n",
    "\n",
    "Sampling: Instead of studying an entire population, a subset (or sample) can be studied to make inferences about the entire group.\n",
    "\n",
    "Techniques include random sampling, stratified sampling, and convenience sampling.\n",
    "\n",
    "### Bias and Error\n",
    "Data collection methods can introduce bias or error. It's crucial to be aware of potential sources of bias, like leading questions in surveys or non-random sampling methods.\n",
    "\n",
    "### Privacy and Ethics\n",
    "Always consider the ethical implications of data collection. Obtain consent when necessary, anonymize data to protect individuals' privacy, and be transparent about how data will be used.\n"
   ]
  },
  {
   "cell_type": "code",
   "execution_count": 18,
   "metadata": {},
   "outputs": [],
   "source": [
    "def find_max(numbers):\n",
    "    max_value = numbers[0]\n",
    "    for number in numbers:\n",
    "        if number > max_value:\n",
    "            max_value = number\n",
    "    return max_value\n",
    "#List of numbers\n",
    "numbers = [23, 45, 67, 89, 12, 34, 56, 78]\n"
   ]
  },
  {
   "cell_type": "markdown",
   "metadata": {},
   "source": [
    "\n",
    "\n",
    "List of numbers\n",
    "numbers = [23, 45, 67, 89, 12, 34, 56, 78]\n",
    "\n",
    "TODO: Modify the given algorithm to find the minimum value in the list of numbers.\n",
    "Hint: You only need to change two lines of code.\n",
    "answer key: Modified Algorithm to find the minimum value\n",
    "def find_min(numbers):\n",
    "    min_value = numbers[0]\n",
    "    for number in numbers:\n",
    "        if number < min_value:\n",
    "            min_value = number\n",
    "    return min_value\n",
    "\n",
    "Calling the function\n",
    "min_value = find_min(numbers)\n",
    "print(min_value)  # Output: 12 \n"
   ]
  },
  {
   "cell_type": "markdown",
   "metadata": {},
   "source": [
    "# Creating/Modifying Algorithms\n",
    "\n",
    "Important steps for creating an algorithm:\n",
    "- Define functions\n",
    "- Initialize ways to store data (array, lists, dictionaries, etc…)\n",
    "- Depending on the context, use iteration to specify conditions for variable\n",
    "- Output generated values from the algorithm\n",
    "\n",
    "Helpful tips for modifying algorithms:\n",
    "- Understand the algorithm so you're able to easily apply changes to it.\n",
    "- Break the program down into chunks.\n",
    "- Focus on each small part of the algorithm to get it to work.\n",
    "- Make sure to test individual components, and then the whole code together (This makes identifying errors, and correcting mistakes easier).\n",
    "\n",
    "Example (The sum of all even numbers between 1 and a given positive integer):\n"
   ]
  },
  {
   "cell_type": "code",
   "execution_count": null,
   "metadata": {},
   "outputs": [],
   "source": [
    "def sum_of_evens(n):\n",
    "    total = 0\n",
    "    for i in range(2, n + 1, 2):\n",
    "        total += i\n",
    "    return total\n",
    "\n",
    "n = int(input(\"Enter a positive integer: \"))\n",
    "result = sum_of_evens(n)\n",
    "print(f\"The sum of even numbers from 1 to {n} is {result}\")\n"
   ]
  },
  {
   "cell_type": "markdown",
   "metadata": {},
   "source": [
    "# Random Number Generation\n",
    "\n",
    "RANDOM (a, b) generates a number from a to b inclusive.\n",
    "Each result from the randomization is equally likely to occur.\n",
    "Using random number generation in a program means each execution may produce a different result.\n",
    "We can use the results from randomization to program simulations.\n",
    "\n",
    "What are the possibities for Answ3?\n",
    "Answ1 (0,2) #This means Answ1 can be anywhere from 0 to 2\n",
    "Answ2 (1,5) #This means Answ1 can be anywhere from 1 to 5\n",
    "Answ3 = Answ1 + Answ2\n",
    "\n",
    "﻿The lowest number answ1 will generate is 0 and the lowest number answ2 will generate is 1.\n",
    "Therefore, the lowest number answ3 could be is 1.\n",
    "The highest number answ1 will generate is 2 and the highest number answ2 will generate is 5.\n",
    "Therefore, the highest number answ3 could be is 7."
   ]
  },
  {
   "cell_type": "markdown",
   "metadata": {},
   "source": [
    "Generating Random Values:\n",
    " - In AP CSP, students learn to generate random values using certain code constructs, like the random module in Python which allows for random integer generation between specified values using random.randint(a, b)​1​. This random number generation introduces an element of unpredictability, vital for many programming applications.\n",
    "Application in Simulations:\n",
    "- Random values are crucial in simulations, mimicking real-world unpredictability. They help in creating diverse scenarios in simulations like weather patterns or game dynamics, thus providing a more realistic or varied simulation experience.\n",
    "Evaluating Code Segments:\n",
    "- Utilizing random values can aid in evaluating code segments by testing how code reacts to varied input, which is particularly useful in identifying potential bugs or inefficiencies.\n"
   ]
  },
  {
   "cell_type": "markdown",
   "metadata": {},
   "source": [
    "If you roll a die 3 times, and take the sum of all your rolls, what is the highest possible amount and the lowest possible amount you can get? \n",
    "\n",
    "Roll 1 (1,6)\n",
    "Roll 2 (1,6)\n",
    "Roll 3 (1,6)\n",
    "\n",
    "Lowest: 3\n",
    "Most: 18"
   ]
  },
  {
   "cell_type": "code",
   "execution_count": null,
   "metadata": {},
   "outputs": [],
   "source": [
    "import random\n",
    "\n",
    "def generate_random():\n",
    "    value = random.randint(1, 100)\n",
    "    print(f'Random value between 1 and 100: {value}')\n",
    "\n",
    "    dice_roll = random.randint(1, 6)\n",
    "    print(f'Dice Roll: {dice_roll}')\n",
    "\n",
    "# Call the function\n",
    "generate_random()\n"
   ]
  },
  {
   "cell_type": "markdown",
   "metadata": {},
   "source": [
    "Lets continue the fun...\n",
    "Make assign 5 days with random temperatures! "
   ]
  },
  {
   "cell_type": "code",
   "execution_count": 13,
   "metadata": {},
   "outputs": [
    {
     "name": "stdout",
     "output_type": "stream",
     "text": [
      "Day 1: Temperature: 74°F\n",
      "Day 2: Temperature: 64°F\n",
      "Day 3: Temperature: 79°F\n",
      "Day 4: Temperature: 74°F\n",
      "Day 5: Temperature: 72°F\n"
     ]
    }
   ],
   "source": [
    "import random\n",
    "\n",
    "def simulate_weather():\n",
    "    for day in range(1, 6):\n",
    "        temperature = random.randint(60, 90)\n",
    "        print(f'Day {day}: Temperature: {temperature}°F')\n",
    "\n",
    "# Call the function\n",
    "simulate_weather()\n"
   ]
  },
  {
   "cell_type": "markdown",
   "metadata": {},
   "source": [
    "# Homework: \n",
    "\n",
    "1. Create a program that follows the Collatz Conjecture. \n",
    "\n",
    "If a number is even, divide by 2.\n",
    "\n",
    "If a number is odd, multiply by 3 and add 1.\n",
    "\n",
    "If implemented correctly this algorithm will eventually go to 1. Try defining the initial number with any number beside 1 to see an interesting ouput. Output the result as a list. You may set a starting value for the list, so that the program can generate the list of numbers created when following the process. \n",
    "\n",
    "Ideas for above 90%:\n",
    "Try implementing user input into this program. Ask the user to enter a number they would like to start with. \n"
   ]
  }
 ],
 "metadata": {
  "kernelspec": {
   "display_name": "Python 3",
   "language": "python",
   "name": "python3"
  },
  "language_info": {
   "codemirror_mode": {
    "name": "ipython",
    "version": 3
   },
   "file_extension": ".py",
   "mimetype": "text/x-python",
   "name": "python",
   "nbconvert_exporter": "python",
   "pygments_lexer": "ipython3",
   "version": "3.10.12"
  },
  "orig_nbformat": 4
 },
 "nbformat": 4,
 "nbformat_minor": 2
}
