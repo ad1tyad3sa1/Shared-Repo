{
 "cells": [
  {
   "cell_type": "markdown",
   "metadata": {},
   "source": [
    "# What are Algorithims?\n",
    "#1 What is the difference between these two pieces of code? (in terms of their output)"
   ]
  },
  {
   "cell_type": "markdown",
   "metadata": {},
   "source": [
    "Whats the difference between these two math problems:\n",
    "(3+1)3 + 89 + 4(2+8)\n",
    "3(1+3) + 8(1+4) + 89\n",
    "\n",
    "Nothing! They are just two different ways of doing them!\n",
    "\n",
    "Whats the difference between these two math problems:\n",
    "3((9-6)+7) + 7 - (9+8)\n",
    "3(9-(6+7)) + 7 - 9 + 8\n",
    "\n",
    "A lot! This changes the output by quite a bit!"
   ]
  },
  {
   "cell_type": "code",
   "execution_count": null,
   "metadata": {},
   "outputs": [],
   "source": [
    "print(\"What is the temperature outside °F?\")\n",
    "temp = int(input())\n",
    "if temp > 85:\n",
    "    print(\"It is too hot outside!\")\n",
    "elif temp >= 65:\n",
    "    print(\"Sure, I will play outside!\")\n",
    "else:\n",
    "    print(\"It is too cold outside!\")"
   ]
  },
  {
   "cell_type": "code",
   "execution_count": null,
   "metadata": {},
   "outputs": [],
   "source": [
    "print(\"What is the temperature outside °F?\")\n",
    "temp = int(input())\n",
    "if temp > 85:\n",
    "    print(\"It is too hot outside!\")\n",
    "elif temp >= 65:\n",
    "    print(\"Sure, I will play outside!\")\n",
    "else:\n",
    "    print(\"It is too cold outside!\")"
   ]
  },
  {
   "cell_type": "markdown",
   "metadata": {},
   "source": [
    "## Didnt get it? \n",
    "Hint: \n",
    "- What if I input 60 degrees °F?\n",
    "- What if I input 90 degrees °F?\n"
   ]
  },
  {
   "cell_type": "markdown",
   "metadata": {},
   "source": [
    "#2 What is the difference between these two pieces of code? (in terms of their output)"
   ]
  },
  {
   "cell_type": "code",
   "execution_count": null,
   "metadata": {},
   "outputs": [],
   "source": [
    "num = 1\n",
    "while num <= 100:\n",
    "    if num % 4 != 0:\n",
    "        print(num, end=' ')\n",
    "    num += 1\n",
    "\n"
   ]
  },
  {
   "cell_type": "code",
   "execution_count": null,
   "metadata": {},
   "outputs": [],
   "source": [
    "def print_numbers():\n",
    "    for i in range(1, 101):\n",
    "        if i % 4 != 0:\n",
    "            print(i)\n",
    "\n",
    "print_numbers()\n"
   ]
  },
  {
   "cell_type": "markdown",
   "metadata": {},
   "source": [
    "So when developing algorithms, different pieces of code could do the same thing, and two similar pieces of code could do very different things. "
   ]
  },
  {
   "cell_type": "markdown",
   "metadata": {},
   "source": [
    "# Creating/Modifying Algorithms\n",
    "\n",
    "Important steps for creating an algorithm:\n",
    "- Define functions\n",
    "- Initialize ways to store data (array, lists, dictionaries, etc…)\n",
    "- Depending on the context, use iteration to specify conditions for variable\n",
    "- Output generated values from the algorithm\n",
    "\n",
    "Helpful tips for modifying algorithms:\n",
    "- Understand the algorithm so you're able to easily apply changes to it.\n",
    "- Break the program down into chunks.\n",
    "- Focus on each small part of the algorithm to get it to work.\n",
    "- Make sure to test individual components, and then the whole code together (This makes identifying errors, and correcting mistakes easier).\n",
    "\n",
    "Example (The sum of all even numbers between 1 and a given positive integer):\n"
   ]
  },
  {
   "cell_type": "code",
   "execution_count": null,
   "metadata": {},
   "outputs": [],
   "source": [
    "def sum_of_evens(n):\n",
    "    total = 0\n",
    "    for i in range(2, n + 1, 2):\n",
    "        total += i\n",
    "    return total\n",
    "\n",
    "n = int(input(\"Enter a positive integer: \"))\n",
    "result = sum_of_evens(n)\n",
    "print(f\"The sum of even numbers from 1 to {n} is {result}\")\n"
   ]
  }
 ],
 "metadata": {
  "kernelspec": {
   "display_name": "Python 3",
   "language": "python",
   "name": "python3"
  },
  "language_info": {
   "codemirror_mode": {
    "name": "ipython",
    "version": 3
   },
   "file_extension": ".py",
   "mimetype": "text/x-python",
   "name": "python",
   "nbconvert_exporter": "python",
   "pygments_lexer": "ipython3",
   "version": "3.10.12"
  },
  "orig_nbformat": 4
 },
 "nbformat": 4,
 "nbformat_minor": 2
}
